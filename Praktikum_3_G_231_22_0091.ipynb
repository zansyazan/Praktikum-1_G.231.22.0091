{
  "nbformat": 4,
  "nbformat_minor": 0,
  "metadata": {
    "colab": {
      "provenance": []
    },
    "kernelspec": {
      "name": "python3",
      "display_name": "Python 3"
    },
    "language_info": {
      "name": "python"
    }
  },
  "cells": [
    {
      "cell_type": "code",
      "source": [
        "def convert(s):\n",
        " new = \"\"\n",
        " for x in s:\n",
        "  new += x\n",
        " return new\n",
        "\n",
        "# driver code\n",
        "s = ['g', 'e', 'e', 'k', 's', 'f', 'o', 'r','g', 'e', 'e', 'k', 's']\n",
        "print(convert(s))\n"
      ],
      "metadata": {
        "colab": {
          "base_uri": "https://localhost:8080/"
        },
        "id": "sVDDbO4n3cA_",
        "outputId": "24feb874-45aa-4c41-e5b1-ac9846c2cd3a"
      },
      "execution_count": 8,
      "outputs": [
        {
          "output_type": "stream",
          "name": "stdout",
          "text": [
            "geeksforgeeks\n"
          ]
        }
      ]
    },
    {
      "cell_type": "code",
      "source": [
        "def convert(s):\n",
        " new = \"\"\n",
        " for x in s:\n",
        "  new += x\n",
        " return new\n",
        "\n",
        "t = ['p', 'r', 'o', 'g', 'r', 'a', 'm',\n",
        " 'm', 'i', 'n', 'g']\n",
        "print(convert(t))"
      ],
      "metadata": {
        "colab": {
          "base_uri": "https://localhost:8080/"
        },
        "id": "XFUoIats3ffW",
        "outputId": "3cefdea9-7265-4f8b-d979-7de1800142ce"
      },
      "execution_count": 9,
      "outputs": [
        {
          "output_type": "stream",
          "name": "stdout",
          "text": [
            "programming\n"
          ]
        }
      ]
    }
  ]
}